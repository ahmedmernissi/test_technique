{
 "cells": [
  {
   "cell_type": "code",
   "execution_count": 1,
   "id": "fad072cb",
   "metadata": {},
   "outputs": [],
   "source": [
    "import pandas as pd\n",
    "import numpy as np\n",
    "\n",
    "import matplotlib.pyplot as plt\n",
    "from sklearn.preprocessing import OneHotEncoder\n",
    "from sklearn.pipeline import Pipeline\n",
    "from sklearn.preprocessing import StandardScaler\n",
    "from sklearn.impute import SimpleImputer\n",
    "from sklearn.compose import ColumnTransformer\n",
    "from sklearn.linear_model import LogisticRegression\n",
    "from sklearn.model_selection import train_test_split, StratifiedKFold\n",
    "from sklearn.model_selection import GridSearchCV\n",
    "from sklearn.metrics import f1_score\n",
    "from xgboost import XGBClassifier\n",
    "import warnings\n",
    "warnings.filterwarnings(\"ignore\")"
   ]
  },
  {
   "cell_type": "markdown",
   "id": "f0dc4fa3",
   "metadata": {},
   "source": [
    "Our aim is to train machine learning models on our data in order to predict TARGET_FLAG for the test-auto data"
   ]
  },
  {
   "cell_type": "markdown",
   "id": "69db1af6",
   "metadata": {},
   "source": [
    "## Data preprocessing"
   ]
  },
  {
   "cell_type": "code",
   "execution_count": 2,
   "id": "cc6377e4",
   "metadata": {},
   "outputs": [
    {
     "data": {
      "text/html": [
       "<div>\n",
       "<style scoped>\n",
       "    .dataframe tbody tr th:only-of-type {\n",
       "        vertical-align: middle;\n",
       "    }\n",
       "\n",
       "    .dataframe tbody tr th {\n",
       "        vertical-align: top;\n",
       "    }\n",
       "\n",
       "    .dataframe thead th {\n",
       "        text-align: right;\n",
       "    }\n",
       "</style>\n",
       "<table border=\"1\" class=\"dataframe\">\n",
       "  <thead>\n",
       "    <tr style=\"text-align: right;\">\n",
       "      <th></th>\n",
       "      <th>Unnamed: 0</th>\n",
       "      <th>TARGET_FLAG</th>\n",
       "      <th>KIDSDRIV</th>\n",
       "      <th>AGE</th>\n",
       "      <th>HOMEKIDS</th>\n",
       "      <th>YOJ</th>\n",
       "      <th>INCOME</th>\n",
       "      <th>PARENT1</th>\n",
       "      <th>HOME_VAL</th>\n",
       "      <th>MSTATUS</th>\n",
       "      <th>...</th>\n",
       "      <th>Student</th>\n",
       "      <th>z_Blue Collar</th>\n",
       "      <th>Commercial</th>\n",
       "      <th>Minivan</th>\n",
       "      <th>Panel Truck</th>\n",
       "      <th>Pickup</th>\n",
       "      <th>Sports Car</th>\n",
       "      <th>Van</th>\n",
       "      <th>z_SUV</th>\n",
       "      <th>Highly Urban/ Urban</th>\n",
       "    </tr>\n",
       "  </thead>\n",
       "  <tbody>\n",
       "    <tr>\n",
       "      <th>0</th>\n",
       "      <td>0</td>\n",
       "      <td>0</td>\n",
       "      <td>0</td>\n",
       "      <td>60.0</td>\n",
       "      <td>0</td>\n",
       "      <td>11.0</td>\n",
       "      <td>11.117643</td>\n",
       "      <td>0</td>\n",
       "      <td>1.000000</td>\n",
       "      <td>0</td>\n",
       "      <td>...</td>\n",
       "      <td>0.0</td>\n",
       "      <td>0.0</td>\n",
       "      <td>0.0</td>\n",
       "      <td>1.0</td>\n",
       "      <td>0.0</td>\n",
       "      <td>0.0</td>\n",
       "      <td>0.0</td>\n",
       "      <td>0.0</td>\n",
       "      <td>0.0</td>\n",
       "      <td>1.0</td>\n",
       "    </tr>\n",
       "    <tr>\n",
       "      <th>1</th>\n",
       "      <td>1</td>\n",
       "      <td>0</td>\n",
       "      <td>0</td>\n",
       "      <td>43.0</td>\n",
       "      <td>0</td>\n",
       "      <td>11.0</td>\n",
       "      <td>11.423537</td>\n",
       "      <td>0</td>\n",
       "      <td>12.457811</td>\n",
       "      <td>0</td>\n",
       "      <td>...</td>\n",
       "      <td>0.0</td>\n",
       "      <td>1.0</td>\n",
       "      <td>1.0</td>\n",
       "      <td>1.0</td>\n",
       "      <td>0.0</td>\n",
       "      <td>0.0</td>\n",
       "      <td>0.0</td>\n",
       "      <td>0.0</td>\n",
       "      <td>0.0</td>\n",
       "      <td>1.0</td>\n",
       "    </tr>\n",
       "    <tr>\n",
       "      <th>2</th>\n",
       "      <td>2</td>\n",
       "      <td>0</td>\n",
       "      <td>0</td>\n",
       "      <td>35.0</td>\n",
       "      <td>1</td>\n",
       "      <td>10.0</td>\n",
       "      <td>9.682779</td>\n",
       "      <td>0</td>\n",
       "      <td>11.729576</td>\n",
       "      <td>1</td>\n",
       "      <td>...</td>\n",
       "      <td>0.0</td>\n",
       "      <td>0.0</td>\n",
       "      <td>0.0</td>\n",
       "      <td>0.0</td>\n",
       "      <td>0.0</td>\n",
       "      <td>0.0</td>\n",
       "      <td>0.0</td>\n",
       "      <td>0.0</td>\n",
       "      <td>1.0</td>\n",
       "      <td>1.0</td>\n",
       "    </tr>\n",
       "    <tr>\n",
       "      <th>3</th>\n",
       "      <td>3</td>\n",
       "      <td>0</td>\n",
       "      <td>0</td>\n",
       "      <td>51.0</td>\n",
       "      <td>0</td>\n",
       "      <td>14.0</td>\n",
       "      <td>NaN</td>\n",
       "      <td>0</td>\n",
       "      <td>12.632160</td>\n",
       "      <td>1</td>\n",
       "      <td>...</td>\n",
       "      <td>0.0</td>\n",
       "      <td>1.0</td>\n",
       "      <td>0.0</td>\n",
       "      <td>1.0</td>\n",
       "      <td>0.0</td>\n",
       "      <td>0.0</td>\n",
       "      <td>0.0</td>\n",
       "      <td>0.0</td>\n",
       "      <td>0.0</td>\n",
       "      <td>1.0</td>\n",
       "    </tr>\n",
       "    <tr>\n",
       "      <th>4</th>\n",
       "      <td>4</td>\n",
       "      <td>0</td>\n",
       "      <td>0</td>\n",
       "      <td>50.0</td>\n",
       "      <td>0</td>\n",
       "      <td>NaN</td>\n",
       "      <td>11.652566</td>\n",
       "      <td>0</td>\n",
       "      <td>12.404616</td>\n",
       "      <td>1</td>\n",
       "      <td>...</td>\n",
       "      <td>0.0</td>\n",
       "      <td>0.0</td>\n",
       "      <td>0.0</td>\n",
       "      <td>0.0</td>\n",
       "      <td>0.0</td>\n",
       "      <td>0.0</td>\n",
       "      <td>0.0</td>\n",
       "      <td>0.0</td>\n",
       "      <td>1.0</td>\n",
       "      <td>1.0</td>\n",
       "    </tr>\n",
       "  </tbody>\n",
       "</table>\n",
       "<p>5 rows × 37 columns</p>\n",
       "</div>"
      ],
      "text/plain": [
       "   Unnamed: 0  TARGET_FLAG  KIDSDRIV   AGE  HOMEKIDS   YOJ     INCOME  \\\n",
       "0           0            0         0  60.0         0  11.0  11.117643   \n",
       "1           1            0         0  43.0         0  11.0  11.423537   \n",
       "2           2            0         0  35.0         1  10.0   9.682779   \n",
       "3           3            0         0  51.0         0  14.0        NaN   \n",
       "4           4            0         0  50.0         0   NaN  11.652566   \n",
       "\n",
       "   PARENT1   HOME_VAL  MSTATUS  ...  Student  z_Blue Collar  Commercial  \\\n",
       "0        0   1.000000        0  ...      0.0            0.0         0.0   \n",
       "1        0  12.457811        0  ...      0.0            1.0         1.0   \n",
       "2        0  11.729576        1  ...      0.0            0.0         0.0   \n",
       "3        0  12.632160        1  ...      0.0            1.0         0.0   \n",
       "4        0  12.404616        1  ...      0.0            0.0         0.0   \n",
       "\n",
       "   Minivan  Panel Truck  Pickup  Sports Car  Van  z_SUV  Highly Urban/ Urban  \n",
       "0      1.0          0.0     0.0         0.0  0.0    0.0                  1.0  \n",
       "1      1.0          0.0     0.0         0.0  0.0    0.0                  1.0  \n",
       "2      0.0          0.0     0.0         0.0  0.0    1.0                  1.0  \n",
       "3      1.0          0.0     0.0         0.0  0.0    0.0                  1.0  \n",
       "4      0.0          0.0     0.0         0.0  0.0    1.0                  1.0  \n",
       "\n",
       "[5 rows x 37 columns]"
      ]
     },
     "execution_count": 2,
     "metadata": {},
     "output_type": "execute_result"
    }
   ],
   "source": [
    "df_train = pd.read_csv(\"preprocessed_train.csv\")\n",
    "df_train.head()"
   ]
  },
  {
   "cell_type": "code",
   "execution_count": 3,
   "id": "0fe49c88",
   "metadata": {},
   "outputs": [
    {
     "data": {
      "text/html": [
       "<div>\n",
       "<style scoped>\n",
       "    .dataframe tbody tr th:only-of-type {\n",
       "        vertical-align: middle;\n",
       "    }\n",
       "\n",
       "    .dataframe tbody tr th {\n",
       "        vertical-align: top;\n",
       "    }\n",
       "\n",
       "    .dataframe thead th {\n",
       "        text-align: right;\n",
       "    }\n",
       "</style>\n",
       "<table border=\"1\" class=\"dataframe\">\n",
       "  <thead>\n",
       "    <tr style=\"text-align: right;\">\n",
       "      <th></th>\n",
       "      <th>Unnamed: 0</th>\n",
       "      <th>TARGET_FLAG</th>\n",
       "      <th>KIDSDRIV</th>\n",
       "      <th>AGE</th>\n",
       "      <th>HOMEKIDS</th>\n",
       "      <th>YOJ</th>\n",
       "      <th>INCOME</th>\n",
       "      <th>PARENT1</th>\n",
       "      <th>HOME_VAL</th>\n",
       "      <th>MSTATUS</th>\n",
       "      <th>...</th>\n",
       "      <th>Student</th>\n",
       "      <th>z_Blue Collar</th>\n",
       "      <th>Commercial</th>\n",
       "      <th>Minivan</th>\n",
       "      <th>Panel Truck</th>\n",
       "      <th>Pickup</th>\n",
       "      <th>Sports Car</th>\n",
       "      <th>Van</th>\n",
       "      <th>z_SUV</th>\n",
       "      <th>Highly Urban/ Urban</th>\n",
       "    </tr>\n",
       "  </thead>\n",
       "  <tbody>\n",
       "    <tr>\n",
       "      <th>0</th>\n",
       "      <td>0</td>\n",
       "      <td>NaN</td>\n",
       "      <td>0</td>\n",
       "      <td>48.0</td>\n",
       "      <td>0</td>\n",
       "      <td>11.0</td>\n",
       "      <td>10.875799</td>\n",
       "      <td>0</td>\n",
       "      <td>1.0</td>\n",
       "      <td>0</td>\n",
       "      <td>...</td>\n",
       "      <td>0.0</td>\n",
       "      <td>0.0</td>\n",
       "      <td>0.0</td>\n",
       "      <td>0.0</td>\n",
       "      <td>0.0</td>\n",
       "      <td>0.0</td>\n",
       "      <td>0.0</td>\n",
       "      <td>1.0</td>\n",
       "      <td>0.0</td>\n",
       "      <td>1.0</td>\n",
       "    </tr>\n",
       "    <tr>\n",
       "      <th>1</th>\n",
       "      <td>1</td>\n",
       "      <td>NaN</td>\n",
       "      <td>1</td>\n",
       "      <td>40.0</td>\n",
       "      <td>1</td>\n",
       "      <td>11.0</td>\n",
       "      <td>10.835947</td>\n",
       "      <td>1</td>\n",
       "      <td>1.0</td>\n",
       "      <td>0</td>\n",
       "      <td>...</td>\n",
       "      <td>0.0</td>\n",
       "      <td>0.0</td>\n",
       "      <td>0.0</td>\n",
       "      <td>1.0</td>\n",
       "      <td>0.0</td>\n",
       "      <td>0.0</td>\n",
       "      <td>0.0</td>\n",
       "      <td>0.0</td>\n",
       "      <td>0.0</td>\n",
       "      <td>1.0</td>\n",
       "    </tr>\n",
       "    <tr>\n",
       "      <th>2</th>\n",
       "      <td>2</td>\n",
       "      <td>NaN</td>\n",
       "      <td>0</td>\n",
       "      <td>44.0</td>\n",
       "      <td>2</td>\n",
       "      <td>12.0</td>\n",
       "      <td>10.680194</td>\n",
       "      <td>1</td>\n",
       "      <td>1.0</td>\n",
       "      <td>0</td>\n",
       "      <td>...</td>\n",
       "      <td>0.0</td>\n",
       "      <td>1.0</td>\n",
       "      <td>1.0</td>\n",
       "      <td>0.0</td>\n",
       "      <td>0.0</td>\n",
       "      <td>0.0</td>\n",
       "      <td>0.0</td>\n",
       "      <td>0.0</td>\n",
       "      <td>1.0</td>\n",
       "      <td>0.0</td>\n",
       "    </tr>\n",
       "    <tr>\n",
       "      <th>3</th>\n",
       "      <td>3</td>\n",
       "      <td>NaN</td>\n",
       "      <td>0</td>\n",
       "      <td>35.0</td>\n",
       "      <td>2</td>\n",
       "      <td>NaN</td>\n",
       "      <td>9.961945</td>\n",
       "      <td>1</td>\n",
       "      <td>1.0</td>\n",
       "      <td>0</td>\n",
       "      <td>...</td>\n",
       "      <td>0.0</td>\n",
       "      <td>0.0</td>\n",
       "      <td>0.0</td>\n",
       "      <td>0.0</td>\n",
       "      <td>0.0</td>\n",
       "      <td>1.0</td>\n",
       "      <td>0.0</td>\n",
       "      <td>0.0</td>\n",
       "      <td>0.0</td>\n",
       "      <td>0.0</td>\n",
       "    </tr>\n",
       "    <tr>\n",
       "      <th>4</th>\n",
       "      <td>4</td>\n",
       "      <td>NaN</td>\n",
       "      <td>0</td>\n",
       "      <td>59.0</td>\n",
       "      <td>0</td>\n",
       "      <td>12.0</td>\n",
       "      <td>11.378937</td>\n",
       "      <td>0</td>\n",
       "      <td>1.0</td>\n",
       "      <td>0</td>\n",
       "      <td>...</td>\n",
       "      <td>0.0</td>\n",
       "      <td>0.0</td>\n",
       "      <td>0.0</td>\n",
       "      <td>1.0</td>\n",
       "      <td>0.0</td>\n",
       "      <td>0.0</td>\n",
       "      <td>0.0</td>\n",
       "      <td>0.0</td>\n",
       "      <td>0.0</td>\n",
       "      <td>1.0</td>\n",
       "    </tr>\n",
       "  </tbody>\n",
       "</table>\n",
       "<p>5 rows × 37 columns</p>\n",
       "</div>"
      ],
      "text/plain": [
       "   Unnamed: 0  TARGET_FLAG  KIDSDRIV   AGE  HOMEKIDS   YOJ     INCOME  \\\n",
       "0           0          NaN         0  48.0         0  11.0  10.875799   \n",
       "1           1          NaN         1  40.0         1  11.0  10.835947   \n",
       "2           2          NaN         0  44.0         2  12.0  10.680194   \n",
       "3           3          NaN         0  35.0         2   NaN   9.961945   \n",
       "4           4          NaN         0  59.0         0  12.0  11.378937   \n",
       "\n",
       "   PARENT1  HOME_VAL  MSTATUS  ...  Student  z_Blue Collar  Commercial  \\\n",
       "0        0       1.0        0  ...      0.0            0.0         0.0   \n",
       "1        1       1.0        0  ...      0.0            0.0         0.0   \n",
       "2        1       1.0        0  ...      0.0            1.0         1.0   \n",
       "3        1       1.0        0  ...      0.0            0.0         0.0   \n",
       "4        0       1.0        0  ...      0.0            0.0         0.0   \n",
       "\n",
       "   Minivan  Panel Truck  Pickup  Sports Car  Van  z_SUV  Highly Urban/ Urban  \n",
       "0      0.0          0.0     0.0         0.0  1.0    0.0                  1.0  \n",
       "1      1.0          0.0     0.0         0.0  0.0    0.0                  1.0  \n",
       "2      0.0          0.0     0.0         0.0  0.0    1.0                  0.0  \n",
       "3      0.0          0.0     1.0         0.0  0.0    0.0                  0.0  \n",
       "4      1.0          0.0     0.0         0.0  0.0    0.0                  1.0  \n",
       "\n",
       "[5 rows x 37 columns]"
      ]
     },
     "execution_count": 3,
     "metadata": {},
     "output_type": "execute_result"
    }
   ],
   "source": [
    "df_test = pd.read_csv(\"preprocessed_test.csv\")\n",
    "df_test.head()"
   ]
  },
  {
   "cell_type": "code",
   "execution_count": 4,
   "id": "fa05ffe8",
   "metadata": {},
   "outputs": [
    {
     "data": {
      "text/plain": [
       "array([0, 0, 0, ..., 0, 0, 0])"
      ]
     },
     "execution_count": 4,
     "metadata": {},
     "output_type": "execute_result"
    }
   ],
   "source": [
    "TARGET = 'TARGET_FLAG'\n",
    "\n",
    "y1 = df_train[TARGET].values\n",
    "X1 = df_train.drop(columns=TARGET)\n",
    "y1"
   ]
  },
  {
   "cell_type": "code",
   "execution_count": 5,
   "id": "7e4202b3",
   "metadata": {},
   "outputs": [],
   "source": [
    "X2 = df_test.drop(columns=TARGET)\n"
   ]
  },
  {
   "cell_type": "code",
   "execution_count": 6,
   "id": "e3623e7c",
   "metadata": {},
   "outputs": [],
   "source": [
    "numeric_features = ['AGE',\n",
    "                    'YOJ',\n",
    "                    'INCOME',\n",
    "                    'HOME_VAL',\n",
    "                    'BLUEBOOK',\n",
    "                    'OLDCLAIM',\n",
    "                    'CAR_AGE']\n",
    "\n",
    "numeric_transformer = Pipeline(steps=[\n",
    "    ('scaler', StandardScaler()),\n",
    "    ('imputer', SimpleImputer(missing_values = np.nan, strategy='constant', fill_value=0))])\n",
    "\n",
    "preprocessor = ColumnTransformer(\n",
    "    transformers=[\n",
    "        ('num', numeric_transformer, numeric_features),],\n",
    "    remainder='passthrough')"
   ]
  },
  {
   "cell_type": "markdown",
   "id": "26a0892b",
   "metadata": {},
   "source": [
    "## Machine learning Model:\n",
    "- logistic regression"
   ]
  },
  {
   "cell_type": "code",
   "execution_count": 7,
   "id": "718ac6b7",
   "metadata": {},
   "outputs": [],
   "source": [
    "pipe = Pipeline(steps=[('preprocessor', preprocessor),                # In order to perform preprocessing\n",
    "                      ('clf', LogisticRegression(random_state=1,      # In order to instanciate a model\n",
    "                                                solver='liblinear',\n",
    "                                                max_iter=300))])"
   ]
  },
  {
   "cell_type": "markdown",
   "id": "ca3f4cac",
   "metadata": {},
   "source": [
    "## Data split"
   ]
  },
  {
   "cell_type": "code",
   "execution_count": 8,
   "id": "16176e2d",
   "metadata": {},
   "outputs": [],
   "source": [
    "random_state = 4\n",
    "n_splits = 4\n",
    "\n",
    "# We keep one fold for validation\n",
    "X_for_gridsearch, X_future_validation, y_for_gridsearch, y_future_validation \\\n",
    "= train_test_split(X1, y1, test_size=0.1, random_state=random_state, stratify=y1)\n",
    "\n",
    "# We use k-fold on the remaining data to search over hyper-parameters\n",
    "kf = StratifiedKFold(n_splits=n_splits, shuffle=True, random_state=random_state)"
   ]
  },
  {
   "cell_type": "markdown",
   "id": "03ed0289",
   "metadata": {},
   "source": [
    "## Training the model"
   ]
  },
  {
   "cell_type": "code",
   "execution_count": 9,
   "id": "0c74e0eb",
   "metadata": {},
   "outputs": [
    {
     "name": "stdout",
     "output_type": "stream",
     "text": [
      "Fitting 4 folds for each of 12 candidates, totalling 48 fits\n",
      "0.5068147316458314\n"
     ]
    }
   ],
   "source": [
    "param_grid = dict(clf__penalty = ['l1', 'l2'],\n",
    "                  clf__C       = np.logspace(-2, 3, 6))\n",
    "\n",
    "grid = GridSearchCV(pipe, \n",
    "                    param_grid=param_grid,\n",
    "                    cv=kf, \n",
    "                    n_jobs=1, \n",
    "                    verbose=1,\n",
    "                    scoring='f1',\n",
    "                    return_train_score=True)\n",
    "grid.fit(X_for_gridsearch, y_for_gridsearch)\n",
    "print(grid.best_score_)"
   ]
  },
  {
   "cell_type": "code",
   "execution_count": 10,
   "id": "ca2f405d",
   "metadata": {},
   "outputs": [
    {
     "data": {
      "text/html": [
       "<div>\n",
       "<style scoped>\n",
       "    .dataframe tbody tr th:only-of-type {\n",
       "        vertical-align: middle;\n",
       "    }\n",
       "\n",
       "    .dataframe tbody tr th {\n",
       "        vertical-align: top;\n",
       "    }\n",
       "\n",
       "    .dataframe thead th {\n",
       "        text-align: right;\n",
       "    }\n",
       "</style>\n",
       "<table border=\"1\" class=\"dataframe\">\n",
       "  <thead>\n",
       "    <tr style=\"text-align: right;\">\n",
       "      <th></th>\n",
       "      <th>param_clf__C</th>\n",
       "      <th>param_clf__penalty</th>\n",
       "      <th>split0_test_score</th>\n",
       "      <th>split1_test_score</th>\n",
       "      <th>split2_test_score</th>\n",
       "      <th>mean_test_score</th>\n",
       "      <th>std_test_score</th>\n",
       "      <th>rank_test_score</th>\n",
       "    </tr>\n",
       "  </thead>\n",
       "  <tbody>\n",
       "    <tr>\n",
       "      <th>8</th>\n",
       "      <td>100.0</td>\n",
       "      <td>l1</td>\n",
       "      <td>0.500000</td>\n",
       "      <td>0.545676</td>\n",
       "      <td>0.499369</td>\n",
       "      <td>0.506815</td>\n",
       "      <td>0.023544</td>\n",
       "      <td>1</td>\n",
       "    </tr>\n",
       "    <tr>\n",
       "      <th>10</th>\n",
       "      <td>1000.0</td>\n",
       "      <td>l1</td>\n",
       "      <td>0.500000</td>\n",
       "      <td>0.545676</td>\n",
       "      <td>0.499366</td>\n",
       "      <td>0.506814</td>\n",
       "      <td>0.023544</td>\n",
       "      <td>2</td>\n",
       "    </tr>\n",
       "    <tr>\n",
       "      <th>6</th>\n",
       "      <td>10.0</td>\n",
       "      <td>l1</td>\n",
       "      <td>0.500000</td>\n",
       "      <td>0.545676</td>\n",
       "      <td>0.498741</td>\n",
       "      <td>0.506657</td>\n",
       "      <td>0.023595</td>\n",
       "      <td>3</td>\n",
       "    </tr>\n",
       "    <tr>\n",
       "      <th>4</th>\n",
       "      <td>1.0</td>\n",
       "      <td>l1</td>\n",
       "      <td>0.494297</td>\n",
       "      <td>0.546780</td>\n",
       "      <td>0.497462</td>\n",
       "      <td>0.506167</td>\n",
       "      <td>0.023810</td>\n",
       "      <td>4</td>\n",
       "    </tr>\n",
       "  </tbody>\n",
       "</table>\n",
       "</div>"
      ],
      "text/plain": [
       "   param_clf__C param_clf__penalty  split0_test_score  split1_test_score  \\\n",
       "8         100.0                 l1           0.500000           0.545676   \n",
       "10       1000.0                 l1           0.500000           0.545676   \n",
       "6          10.0                 l1           0.500000           0.545676   \n",
       "4           1.0                 l1           0.494297           0.546780   \n",
       "\n",
       "    split2_test_score  mean_test_score  std_test_score  rank_test_score  \n",
       "8            0.499369         0.506815        0.023544                1  \n",
       "10           0.499366         0.506814        0.023544                2  \n",
       "6            0.498741         0.506657        0.023595                3  \n",
       "4            0.497462         0.506167        0.023810                4  "
      ]
     },
     "execution_count": 10,
     "metadata": {},
     "output_type": "execute_result"
    }
   ],
   "source": [
    "cv_results = pd.DataFrame(grid.cv_results_)\n",
    "cv_results = cv_results.sort_values(\"mean_test_score\", ascending=False)\n",
    "cv_results[['param_clf__C',\n",
    "            'param_clf__penalty', \n",
    "            'split0_test_score',\n",
    "            'split1_test_score',\n",
    "            'split2_test_score',\n",
    "            'mean_test_score',\n",
    "            'std_test_score',\n",
    "            'rank_test_score']].head(4)"
   ]
  },
  {
   "cell_type": "markdown",
   "id": "6c2c7b60",
   "metadata": {},
   "source": [
    "## accuracy of the model"
   ]
  },
  {
   "cell_type": "code",
   "execution_count": 11,
   "id": "06a016c2",
   "metadata": {},
   "outputs": [
    {
     "data": {
      "text/plain": [
       "0.5111111111111111"
      ]
     },
     "execution_count": 11,
     "metadata": {},
     "output_type": "execute_result"
    }
   ],
   "source": [
    "y_pred = grid.predict(X_future_validation)\n",
    "f1_score(y_future_validation, y_pred)"
   ]
  },
  {
   "cell_type": "code",
   "execution_count": 12,
   "id": "242c2da6",
   "metadata": {},
   "outputs": [
    {
     "data": {
      "text/plain": [
       "array([0, 0, 0, ..., 0, 0, 0])"
      ]
     },
     "execution_count": 12,
     "metadata": {},
     "output_type": "execute_result"
    }
   ],
   "source": [
    "y_pred_test = grid.predict(X2)\n",
    "y_pred_test\n"
   ]
  },
  {
   "cell_type": "markdown",
   "id": "43899d96",
   "metadata": {},
   "source": [
    "## Model2:"
   ]
  },
  {
   "cell_type": "code",
   "execution_count": 13,
   "id": "8727a98f",
   "metadata": {},
   "outputs": [],
   "source": [
    "\n",
    "numeric_features = ['AGE',\n",
    "                    'INCOME',\n",
    "                    'HOME_VAL',\n",
    "                    'BLUEBOOK',\n",
    "                    'OLDCLAIM',\n",
    "                    'CAR_AGE']\n",
    "\n",
    "numeric_transformer = Pipeline(steps=[\n",
    "    ('imputer', SimpleImputer(missing_values = np.nan, strategy='constant', fill_value=0))])\n",
    "\n",
    "preprocessor = ColumnTransformer(\n",
    "    transformers=[\n",
    "        ('num', numeric_transformer, numeric_features),],\n",
    "    remainder='passthrough')\n",
    "\n",
    "\n",
    "\n",
    "model = XGBClassifier(objective='binary:logistic',\n",
    "                              use_label_encoder=False,\n",
    "                              eval_metric='logloss',\n",
    "                              random_state='42')\n",
    "\n",
    "pipe = Pipeline(steps=[('preprocessor', preprocessor),\n",
    "                      ('clf', model)])"
   ]
  },
  {
   "cell_type": "markdown",
   "id": "af1f815a",
   "metadata": {},
   "source": [
    "## Splitting the data"
   ]
  },
  {
   "cell_type": "code",
   "execution_count": 14,
   "id": "87e3d10d",
   "metadata": {},
   "outputs": [],
   "source": [
    "from sklearn.model_selection import train_test_split, StratifiedKFold\n",
    "\n",
    "random_state = 4\n",
    "n_splits = 4\n",
    "\n",
    "# We keep one fold for validation\n",
    "X_for_gridsearch, X_future_validation, y_for_gridsearch, y_future_validation \\\n",
    "= train_test_split(X1, y1, test_size=0.1, random_state=random_state, stratify=y1)\n",
    "\n",
    "# We use k-fold on the remaining data to search over hyper-parameters\n",
    "kf = StratifiedKFold(n_splits=n_splits, shuffle=True, random_state=random_state)"
   ]
  },
  {
   "cell_type": "markdown",
   "id": "d0398fc9",
   "metadata": {},
   "source": [
    "## Training the model"
   ]
  },
  {
   "cell_type": "code",
   "execution_count": 15,
   "id": "26834dfa",
   "metadata": {},
   "outputs": [
    {
     "name": "stdout",
     "output_type": "stream",
     "text": [
      "Fitting 4 folds for each of 20 candidates, totalling 80 fits\n",
      "0.5334962839792531\n"
     ]
    }
   ],
   "source": [
    "from sklearn.model_selection import RandomizedSearchCV\n",
    "\n",
    "param_grid  = dict(clf__n_estimators  = np.linspace(100, 300, 6).astype(int),\n",
    "                           clf__max_depth     = [5, 8, 10, 15, 20, 30, 50, 75, 100],\n",
    "                           clf__alpha         = [0.01, 0.05, 0.1, 0.3, 0.5, 1, 10],\n",
    "                           clf__learning_rate = [0.1, 0.08, 0.05, 0.02, 0.01],\n",
    "                 )\n",
    "\n",
    "grid = RandomizedSearchCV(pipe,\n",
    "                          param_distributions=param_grid,\n",
    "                          cv=kf,\n",
    "                          verbose=1,\n",
    "                          scoring='f1',\n",
    "                          random_state=42,\n",
    "                          n_iter=20,\n",
    "                         )\n",
    "grid.fit(X_for_gridsearch, y_for_gridsearch)\n",
    "print(grid.best_score_)"
   ]
  },
  {
   "cell_type": "code",
   "execution_count": 16,
   "id": "88b38fdd",
   "metadata": {},
   "outputs": [
    {
     "data": {
      "text/html": [
       "<div>\n",
       "<style scoped>\n",
       "    .dataframe tbody tr th:only-of-type {\n",
       "        vertical-align: middle;\n",
       "    }\n",
       "\n",
       "    .dataframe tbody tr th {\n",
       "        vertical-align: top;\n",
       "    }\n",
       "\n",
       "    .dataframe thead th {\n",
       "        text-align: right;\n",
       "    }\n",
       "</style>\n",
       "<table border=\"1\" class=\"dataframe\">\n",
       "  <thead>\n",
       "    <tr style=\"text-align: right;\">\n",
       "      <th></th>\n",
       "      <th>split0_test_score</th>\n",
       "      <th>split1_test_score</th>\n",
       "      <th>split2_test_score</th>\n",
       "      <th>mean_test_score</th>\n",
       "      <th>std_test_score</th>\n",
       "      <th>rank_test_score</th>\n",
       "    </tr>\n",
       "  </thead>\n",
       "  <tbody>\n",
       "    <tr>\n",
       "      <th>2</th>\n",
       "      <td>0.529769</td>\n",
       "      <td>0.556480</td>\n",
       "      <td>0.506732</td>\n",
       "      <td>0.533496</td>\n",
       "      <td>0.018130</td>\n",
       "      <td>1</td>\n",
       "    </tr>\n",
       "    <tr>\n",
       "      <th>16</th>\n",
       "      <td>0.514354</td>\n",
       "      <td>0.538647</td>\n",
       "      <td>0.535452</td>\n",
       "      <td>0.529015</td>\n",
       "      <td>0.009369</td>\n",
       "      <td>2</td>\n",
       "    </tr>\n",
       "    <tr>\n",
       "      <th>4</th>\n",
       "      <td>0.524104</td>\n",
       "      <td>0.539299</td>\n",
       "      <td>0.511278</td>\n",
       "      <td>0.526920</td>\n",
       "      <td>0.010522</td>\n",
       "      <td>3</td>\n",
       "    </tr>\n",
       "    <tr>\n",
       "      <th>6</th>\n",
       "      <td>0.520245</td>\n",
       "      <td>0.543030</td>\n",
       "      <td>0.517968</td>\n",
       "      <td>0.524503</td>\n",
       "      <td>0.010769</td>\n",
       "      <td>4</td>\n",
       "    </tr>\n",
       "  </tbody>\n",
       "</table>\n",
       "</div>"
      ],
      "text/plain": [
       "    split0_test_score  split1_test_score  split2_test_score  mean_test_score  \\\n",
       "2            0.529769           0.556480           0.506732         0.533496   \n",
       "16           0.514354           0.538647           0.535452         0.529015   \n",
       "4            0.524104           0.539299           0.511278         0.526920   \n",
       "6            0.520245           0.543030           0.517968         0.524503   \n",
       "\n",
       "    std_test_score  rank_test_score  \n",
       "2         0.018130                1  \n",
       "16        0.009369                2  \n",
       "4         0.010522                3  \n",
       "6         0.010769                4  "
      ]
     },
     "execution_count": 16,
     "metadata": {},
     "output_type": "execute_result"
    }
   ],
   "source": [
    "cv_results = pd.DataFrame(grid.cv_results_)\n",
    "cv_results = cv_results.sort_values(\"mean_test_score\", ascending=False)\n",
    "cv_results[['split0_test_score',\n",
    "            'split1_test_score',\n",
    "            'split2_test_score',\n",
    "            'mean_test_score',\n",
    "            'std_test_score',\n",
    "            'rank_test_score']].head(4)"
   ]
  },
  {
   "cell_type": "markdown",
   "id": "2a75d9fa",
   "metadata": {},
   "source": [
    "## Accuracy of the model with the prediction on the test-auto:"
   ]
  },
  {
   "cell_type": "code",
   "execution_count": 17,
   "id": "ce47c487",
   "metadata": {},
   "outputs": [
    {
     "data": {
      "text/plain": [
       "0.5937499999999999"
      ]
     },
     "execution_count": 17,
     "metadata": {},
     "output_type": "execute_result"
    }
   ],
   "source": [
    "from sklearn.metrics import f1_score\n",
    "\n",
    "y_pred = grid.predict(X_future_validation)\n",
    "f1_score(y_future_validation, y_pred)"
   ]
  },
  {
   "cell_type": "code",
   "execution_count": 18,
   "id": "2b192efd",
   "metadata": {},
   "outputs": [
    {
     "data": {
      "text/plain": [
       "array([0, 0, 0, ..., 0, 0, 0])"
      ]
     },
     "execution_count": 18,
     "metadata": {},
     "output_type": "execute_result"
    }
   ],
   "source": [
    "y_pred_test2 = grid.predict(X2)\n",
    "y_pred_test2 "
   ]
  },
  {
   "cell_type": "code",
   "execution_count": 20,
   "id": "42e11c1c",
   "metadata": {},
   "outputs": [],
   "source": [
    "y_preds=[y_pred_test,y_pred_test2]\n",
    "y_preds = np.mean(y_preds,axis=0)\n",
    "y_preds = (y_preds > 0.5).astype(int)"
   ]
  },
  {
   "cell_type": "code",
   "execution_count": 22,
   "id": "71d6f734",
   "metadata": {},
   "outputs": [],
   "source": [
    "# Generate and save submissions\n",
    "df_sub = pd.DataFrame()\n",
    "df_sub['TARGET_FLAG'] = y_preds"
   ]
  },
  {
   "cell_type": "code",
   "execution_count": 31,
   "id": "e21f7a57",
   "metadata": {},
   "outputs": [],
   "source": [
    "df_sub.to_csv('submission.csv')"
   ]
  }
 ],
 "metadata": {
  "kernelspec": {
   "display_name": "Python 3 (ipykernel)",
   "language": "python",
   "name": "python3"
  },
  "language_info": {
   "codemirror_mode": {
    "name": "ipython",
    "version": 3
   },
   "file_extension": ".py",
   "mimetype": "text/x-python",
   "name": "python",
   "nbconvert_exporter": "python",
   "pygments_lexer": "ipython3",
   "version": "3.9.7"
  }
 },
 "nbformat": 4,
 "nbformat_minor": 5
}
